{
 "cells": [
  {
   "cell_type": "markdown",
   "metadata": {},
   "source": [
    "# Задание 4"
   ]
  },
  {
   "cell_type": "markdown",
   "metadata": {},
   "source": [
    "####  Задача 1."
   ]
  },
  {
   "cell_type": "markdown",
   "metadata": {},
   "source": [
    "${a(x)=argmax_y P(y|x)}={argmax_y P(x|y)P(y)}={argmax_y P(x|y)C}={argmax_y P(x|y)}={argmax_y \\prod_{k=1}^{n} P(x^{(k)}|y)}={argmax_y \\prod_{k=1}^{n} \\frac{1}{2\\pi\\sigma^2}e^{-\\frac{(x^{(k)}-\\mu_{yk})^2}{2\\sigma^2}}}=\n",
    "{argmax_y\\sum_{k=1}^{n}{-\\frac{(x^{(k)}-\\mu_{yk})^2}{2\\sigma^2}}}={argmin_y\\sum_{k=1}^{n}{\\frac{(x^{(k)}-\\mu_{yk})^2}{2\\sigma^2}}}={argmin_y\\sum_{k=1}^{n}{(x^{(k)}-\\mu_{yk})^2}}={argmin_y \\rho(x, \\mu_y)}$\n",
    "\n",
    "Получаем центроидный классификатор."
   ]
  },
  {
   "cell_type": "markdown",
   "metadata": {},
   "source": [
    "#### Задача 2."
   ]
  },
  {
   "cell_type": "markdown",
   "metadata": {},
   "source": [
    "Обозначим долю класса $1$ в выборке как $t$. Тогда в среднем:\n",
    "\n",
    "$TPR=\\frac{TP}{TP+FN}=\\frac{TP}{tN}=\\frac{tpN}{tN}=p$\n",
    "\n",
    "$FPR=\\frac{FP}{FP+TN}=\\frac{FP}{(1-t)N}=\\frac{(1-t)pN}{(1-t)N}=p$\n",
    "\n",
    "$ROCAUC=\\frac{1+TPR-FPR}{2}=\\frac{1+p-p}{2}=\\frac{1}{2}$"
   ]
  }
 ],
 "metadata": {
  "kernelspec": {
   "display_name": "Python 3",
   "language": "python",
   "name": "python3"
  },
  "language_info": {
   "codemirror_mode": {
    "name": "ipython",
    "version": 3
   },
   "file_extension": ".py",
   "mimetype": "text/x-python",
   "name": "python",
   "nbconvert_exporter": "python",
   "pygments_lexer": "ipython3",
   "version": "3.6.2"
  }
 },
 "nbformat": 4,
 "nbformat_minor": 2
}
