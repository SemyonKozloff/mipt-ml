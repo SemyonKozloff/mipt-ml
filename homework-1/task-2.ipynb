{
 "cells": [
  {
   "cell_type": "markdown",
   "metadata": {},
   "source": [
    "# Задание 2"
   ]
  },
  {
   "cell_type": "code",
   "execution_count": 16,
   "metadata": {
    "collapsed": true
   },
   "outputs": [],
   "source": [
    "import numpy as np \n",
    "import matplotlib.pyplot as plt\n",
    "import seaborn\n",
    "\n",
    "%config InlineBackend.figure_format = 'retina'\n",
    "%matplotlib inline"
   ]
  },
  {
   "cell_type": "code",
   "execution_count": 61,
   "metadata": {
    "scrolled": false
   },
   "outputs": [
    {
     "name": "stdout",
     "output_type": "stream",
     "text": [
      "[[  0.   0.   0.   2.  15.   8.   0.   0.]\n",
      " [  0.   0.   0.  11.  16.   4.   0.   0.]\n",
      " [  0.   0.   9.  16.  16.   0.   0.   0.]\n",
      " [  0.   3.  15.  16.  16.   0.   0.   0.]\n",
      " [  0.  12.  16.  16.  16.  14.   6.   0.]\n",
      " [  0.   6.  12.  14.  16.  12.   5.   0.]\n",
      " [  0.   0.   0.   8.  13.   0.   0.   0.]\n",
      " [  0.   0.   0.   2.  14.   1.   0.   0.]]\n"
     ]
    },
    {
     "data": {
      "image/png": "[encoded data removed]",
      "text/plain": [
       "<matplotlib.figure.Figure at 0x7fac206e5978>"
      ]
     },
     "metadata": {
      "image/png": {
       "height": 250,
       "width": 247
      }
     },
     "output_type": "display_data"
    }
   ],
   "source": [
    "from sklearn import datasets\n",
    "\n",
    "digits = datasets.load_digits()\n",
    "cancer = datasets.load_breast_cancer()\n",
    "\n",
    "print(digits.images[228])\n",
    "plt.imshow(digits.images[228]);"
   ]
  },
  {
   "cell_type": "code",
   "execution_count": 67,
   "metadata": {},
   "outputs": [
    {
     "name": "stdout",
     "output_type": "stream",
     "text": [
      "mean radius: 15.85\n",
      "mean texture: 23.95\n",
      "mean perimeter: 103.70\n",
      "mean area: 782.70\n",
      "mean smoothness: 0.08\n",
      "mean compactness: 0.10\n",
      "mean concavity: 0.10\n",
      "mean concave points: 0.05\n",
      "mean symmetry: 0.18\n",
      "mean fractal dimension: 0.05\n",
      "radius error: 0.40\n",
      "texture error: 1.08\n",
      "perimeter error: 2.90\n",
      "area error: 36.58\n",
      "smoothness error: 0.01\n",
      "compactness error: 0.03\n",
      "concavity error: 0.05\n",
      "concave points error: 0.02\n",
      "symmetry error: 0.03\n",
      "fractal dimension error: 0.00\n",
      "worst radius: 16.84\n",
      "worst texture: 27.66\n",
      "worst perimeter: 112.00\n",
      "worst area: 876.50\n",
      "worst smoothness: 0.11\n",
      "worst compactness: 0.19\n",
      "worst concavity: 0.23\n",
      "worst concave points: 0.11\n",
      "worst symmetry: 0.28\n",
      "worst fractal dimension: 0.06\n"
     ]
    }
   ],
   "source": [
    "for f, x in zip(cancer.feature_names, cancer.data[13]):\n",
    "    print(f'{f}: {x:.2f}')"
   ]
  },
  {
   "cell_type": "code",
   "execution_count": 74,
   "metadata": {},
   "outputs": [],
   "source": [
    "from sklearn.model_selection import cross_val_score\n",
    "from sklearn.naive_bayes import *\n",
    "\n",
    "classifiers = [BernoulliNB(), MultinomialNB(), GaussianNB()]"
   ]
  },
  {
   "cell_type": "markdown",
   "metadata": {},
   "source": [
    "### Digits dataset cv-score"
   ]
  },
  {
   "cell_type": "code",
   "execution_count": 76,
   "metadata": {},
   "outputs": [
    {
     "name": "stdout",
     "output_type": "stream",
     "text": [
      "BernoulliNB 0.825823650778\n",
      "MultinomialNB 0.870877148974\n",
      "GaussianNB 0.818600380355\n"
     ]
    }
   ],
   "source": [
    "for clf in classifiers:\n",
    "    print(type(clf).__name__, cross_val_score(clf, digits.data, digits.target).mean())"
   ]
  },
  {
   "cell_type": "markdown",
   "metadata": {},
   "source": [
    "Максимальное качество получаем при использованиии классификатора с мультиномиальным распределением - $0.87$."
   ]
  },
  {
   "cell_type": "markdown",
   "metadata": {},
   "source": [
    "### Breast cancer dataset cv-score"
   ]
  },
  {
   "cell_type": "code",
   "execution_count": 78,
   "metadata": {},
   "outputs": [
    {
     "name": "stdout",
     "output_type": "stream",
     "text": [
      "BernoulliNB 0.627420402859\n",
      "MultinomialNB 0.894579040193\n",
      "GaussianNB 0.936749280609\n"
     ]
    }
   ],
   "source": [
    "for clf in classifiers:\n",
    "    print(type(clf).__name__, cross_val_score(clf, cancer.data, cancer.target).mean())"
   ]
  },
  {
   "cell_type": "markdown",
   "metadata": {},
   "source": [
    "Максимальное качество получаем при распределении Гаусса - $0.94$. "
   ]
  },
  {
   "cell_type": "markdown",
   "metadata": {},
   "source": [
    "Как видим, на целых неотрицательных признаках лучше всего себя показало мультиномиальное распределение, на вещественных признаках - нормальное распределение. В случае бинарной классификации скорее всего предпочтительным бы оказалось распределение Бернулли."
   ]
  },
  {
   "cell_type": "code",
   "execution_count": null,
   "metadata": {
    "collapsed": true
   },
   "outputs": [],
   "source": []
  }
 ],
 "metadata": {
  "kernelspec": {
   "display_name": "Python 3",
   "language": "python",
   "name": "python3"
  },
  "language_info": {
   "codemirror_mode": {
    "name": "ipython",
    "version": 3
   },
   "file_extension": ".py",
   "mimetype": "text/x-python",
   "name": "python",
   "nbconvert_exporter": "python",
   "pygments_lexer": "ipython3",
   "version": "3.6.2"
  }
 },
 "nbformat": 4,
 "nbformat_minor": 2
}
