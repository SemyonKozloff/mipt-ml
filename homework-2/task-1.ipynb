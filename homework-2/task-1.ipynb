{
 "cells": [
  {
   "cell_type": "markdown",
   "metadata": {},
   "source": [
    "# Задание 1"
   ]
  },
  {
   "cell_type": "markdown",
   "metadata": {},
   "source": [
    "#### Задача 1."
   ]
  },
  {
   "cell_type": "markdown",
   "metadata": {},
   "source": [
    "Пусть $y^*$ - ответ регрессионного дерева в данном листе.\n",
    "\n",
    "Распишем ошибку MSE:\n",
    "\n",
    "$E(\\frac{1}{n}\\sum\\limits_{i=1}^n (y_i - y^*)^2) = \\frac{1}{n}\\sum\\limits_{i=1}^n E(y_i - y^*)^2$\n",
    "\n",
    "Будем искать минимум этой функции:\n",
    "\n",
    "$E(y_i-y^*)^2= E y_i^2 - 2y^* Ey_i + E (y^*)^2$\n",
    "\n",
    "$(E y_i^2 - 2y^* Ey_i + E (y^*)^2)' = 2Ey_i - 2y^*$\n",
    "\n",
    "$ \\frac{1}{n} \\sum\\limits_{i=1}^n (Ey_i - y^*) = 0$\n",
    "\n",
    "$y^* = \\frac{1}{n} \\sum\\limits_{i=1}^n Ey_i $ - то есть среднее значение целевого признака минимизирует матожидание ошибки по MSE"
   ]
  },
  {
   "cell_type": "markdown",
   "metadata": {},
   "source": [
    "#### Задача 2."
   ]
  },
  {
   "cell_type": "markdown",
   "metadata": {},
   "source": [
    "При построении регрессионного дерева мы разбиваем выборку в узле так, чтобы в узлах-потомках оказались объекты, с наиболее \"схожими\" (минимизируем разброс вокруг среднего) значениями целевого признака. Тогда линейная регрессия в листе будет восстанавливать зависимость близкую к константе, мы же вместо этого просто берем эту константу - их среднее.\n",
    "\n",
    "Если мы все же хотим использовать линейные модели, возможно, при построении дерева надо максимизировать MSE, а затем в узлах применить линейую регрессию. "
   ]
  }
 ],
 "metadata": {
  "kernelspec": {
   "display_name": "Python 3",
   "language": "python",
   "name": "python3"
  },
  "language_info": {
   "codemirror_mode": {
    "name": "ipython",
    "version": 3
   },
   "file_extension": ".py",
   "mimetype": "text/x-python",
   "name": "python",
   "nbconvert_exporter": "python",
   "pygments_lexer": "ipython3",
   "version": "3.6.2"
  }
 },
 "nbformat": 4,
 "nbformat_minor": 2
}
