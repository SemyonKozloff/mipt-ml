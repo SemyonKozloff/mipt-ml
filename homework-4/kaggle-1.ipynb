{
 "cells": [
  {
   "cell_type": "code",
   "execution_count": 15,
   "metadata": {
    "collapsed": false,
    "deletable": true,
    "editable": true
   },
   "outputs": [],
   "source": [
    "import pandas as pd\n",
    "import numpy as np\n",
    "import matplotlib.pyplot as plt\n",
    "\n",
    "from sklearn.ensemble import RandomForestClassifier\n",
    "\n",
    "from sklearn.model_selection import cross_val_score\n",
    "\n",
    "%matplotlib inline\n"
   ]
  },
  {
   "cell_type": "code",
   "execution_count": 16,
   "metadata": {
    "collapsed": false,
    "deletable": true,
    "editable": true,
    "scrolled": false
   },
   "outputs": [],
   "source": [
    "data_train = pd.read_csv('linear_train.txt', names=['text', 'class'])\n",
    "\n",
    "def count_capitals(string):\n",
    "    return sum(1 for c in string if c.isupper())\n",
    "\n",
    "def encode(c):\n",
    "    return ord(c) - ord(u'а')\n",
    "\n",
    "def preprocess_data(X_raw):\n",
    "    cap = X_raw.map(lambda s : 1 if count_capitals(s) == 1 and s[0].isupper() else 0)\n",
    "    end = X_raw.map(lambda s : list(s[-4:].lower()))\n",
    "\n",
    "    X = pd.DataFrame(end.values.tolist()).fillna('0')\n",
    "    for i in X.columns:\n",
    "        X[i] = X[i].apply(encode)\n",
    "    X[4] = cap\n",
    "    return X\n",
    "\n",
    "X_train = preprocess_data(data_train['text'])\n",
    "y_train = data_train['class']"
   ]
  },
  {
   "cell_type": "code",
   "execution_count": 17,
   "metadata": {
    "collapsed": false,
    "deletable": true,
    "editable": true,
    "scrolled": false
   },
   "outputs": [
    {
     "name": "stdout",
     "output_type": "stream",
     "text": [
      "13\n"
     ]
    }
   ],
   "source": [
    "roc_auc_score = [0]\n",
    "\n",
    "for depth in range(1, 20):\n",
    "    classifier = RandomForestClassifier(max_depth=depth)\n",
    "    score = np.mean(cross_val_score(classifier, X_train, y_train, cv=5, scoring='roc_auc'))\n",
    "    roc_auc_score.append(score)\n",
    "    \n",
    "depth = np.argmax(roc_auc_score)\n",
    "print(depth)"
   ]
  },
  {
   "cell_type": "code",
   "execution_count": 18,
   "metadata": {
    "collapsed": false,
    "deletable": true,
    "editable": true
   },
   "outputs": [],
   "source": [
    "data_test = pd.read_csv('linear_test.txt', names=['text'])\n",
    "\n",
    "X_test = preprocess_data(data_test['text'])\n",
    "\n",
    "classifier = RandomForestClassifier(max_depth=depth)\n",
    "classifier.fit(X_train, y_train)\n",
    "data_test['class'] = classifier.predict(X_test)\n"
   ]
  },
  {
   "cell_type": "code",
   "execution_count": 19,
   "metadata": {
    "collapsed": false,
    "deletable": true,
    "editable": true
   },
   "outputs": [],
   "source": [
    "data_test['class'] = data_test['class'].apply(float)\n",
    "data_test.to_csv('linear_ans.txt', columns=['class'])"
   ]
  },
  {
   "cell_type": "code",
   "execution_count": null,
   "metadata": {
    "collapsed": true
   },
   "outputs": [],
   "source": []
  }
 ],
 "metadata": {
  "kernelspec": {
   "display_name": "Python 3",
   "language": "python",
   "name": "python3"
  },
  "language_info": {
   "codemirror_mode": {
    "name": "ipython",
    "version": 3
   },
   "file_extension": ".py",
   "mimetype": "text/x-python",
   "name": "python",
   "nbconvert_exporter": "python",
   "pygments_lexer": "ipython3",
   "version": "3.6.0"
  }
 },
 "nbformat": 4,
 "nbformat_minor": 2
}
